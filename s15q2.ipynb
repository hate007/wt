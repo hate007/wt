{
 "cells": [
  {
   "cell_type": "code",
   "execution_count": 11,
   "id": "24676bce",
   "metadata": {},
   "outputs": [
    {
     "name": "stdout",
     "output_type": "stream",
     "text": [
      "Frequent Itemsets:\n",
      "    support                        itemsets\n",
      "0      0.25               (Company_Hyundai)\n",
      "1      0.25                   (Company_KIA)\n",
      "2      0.25                    (Company_MG)\n",
      "3      0.25                  (Company_Tata)\n",
      "4      0.25                   (Model_Astor)\n",
      "5      0.25                   (Model_Creta)\n",
      "6      0.25                   (Model_Nexon)\n",
      "7      0.25                  (Model_Seltos)\n",
      "8      0.25  (Model_Creta, Company_Hyundai)\n",
      "9      0.25     (Company_KIA, Model_Seltos)\n",
      "10     0.25       (Company_MG, Model_Astor)\n",
      "11     0.25     (Company_Tata, Model_Nexon)\n",
      "\n",
      "Association Rules:\n",
      "         antecedents        consequents  antecedent support  \\\n",
      "0      (Model_Creta)  (Company_Hyundai)                0.25   \n",
      "1  (Company_Hyundai)      (Model_Creta)                0.25   \n",
      "2      (Company_KIA)     (Model_Seltos)                0.25   \n",
      "3     (Model_Seltos)      (Company_KIA)                0.25   \n",
      "4       (Company_MG)      (Model_Astor)                0.25   \n",
      "5      (Model_Astor)       (Company_MG)                0.25   \n",
      "6     (Company_Tata)      (Model_Nexon)                0.25   \n",
      "7      (Model_Nexon)     (Company_Tata)                0.25   \n",
      "\n",
      "   consequent support  support  confidence  lift  leverage  conviction  \\\n",
      "0                0.25     0.25         1.0   4.0    0.1875         inf   \n",
      "1                0.25     0.25         1.0   4.0    0.1875         inf   \n",
      "2                0.25     0.25         1.0   4.0    0.1875         inf   \n",
      "3                0.25     0.25         1.0   4.0    0.1875         inf   \n",
      "4                0.25     0.25         1.0   4.0    0.1875         inf   \n",
      "5                0.25     0.25         1.0   4.0    0.1875         inf   \n",
      "6                0.25     0.25         1.0   4.0    0.1875         inf   \n",
      "7                0.25     0.25         1.0   4.0    0.1875         inf   \n",
      "\n",
      "   zhangs_metric  \n",
      "0            1.0  \n",
      "1            1.0  \n",
      "2            1.0  \n",
      "3            1.0  \n",
      "4            1.0  \n",
      "5            1.0  \n",
      "6            1.0  \n",
      "7            1.0  \n"
     ]
    }
   ],
   "source": [
    "import pandas as pd\n",
    "from mlxtend.preprocessing import TransactionEncoder\n",
    "from mlxtend.frequent_patterns import apriori, association_rules\n",
    "\n",
    "data = {\n",
    "    'Company': ['Tata', 'MG', 'KIA', 'Hyundai'],\n",
    "    'Model': ['Nexon', 'Astor', 'Seltos', 'Creta'],\n",
    "}\n",
    "\n",
    "df = pd.DataFrame(data)\n",
    "\n",
    "df_encoded = pd.get_dummies(df)\n",
    "\n",
    "frequent_itemsets = apriori(df_encoded.astype('bool'), min_support=0.2, use_colnames=True)\n",
    "association_rules_df = association_rules(frequent_itemsets, metric=\"confidence\", min_threshold=0.5)\n",
    "\n",
    "print(\"Frequent Itemsets:\")\n",
    "print(frequent_itemsets)\n",
    "print(\"\\nAssociation Rules:\")\n",
    "print(association_rules_df)\n"
   ]
  },
  {
   "cell_type": "code",
   "execution_count": null,
   "id": "23707008",
   "metadata": {},
   "outputs": [],
   "source": []
  }
 ],
 "metadata": {
  "kernelspec": {
   "display_name": "Python 3 (ipykernel)",
   "language": "python",
   "name": "python3"
  },
  "language_info": {
   "codemirror_mode": {
    "name": "ipython",
    "version": 3
   },
   "file_extension": ".py",
   "mimetype": "text/x-python",
   "name": "python",
   "nbconvert_exporter": "python",
   "pygments_lexer": "ipython3",
   "version": "3.11.1"
  }
 },
 "nbformat": 4,
 "nbformat_minor": 5
}
