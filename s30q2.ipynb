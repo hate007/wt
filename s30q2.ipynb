{
 "cells": [
  {
   "cell_type": "code",
   "execution_count": 2,
   "id": "6db02b3b",
   "metadata": {},
   "outputs": [
    {
     "name": "stdout",
     "output_type": "stream",
     "text": [
      "Frequent Itemsets:\n",
      "    support              itemsets\n",
      "0       0.6               (apple)\n",
      "1       0.6               (bread)\n",
      "2       0.4                (eggs)\n",
      "3       0.8                (milk)\n",
      "4       0.2        (bread, apple)\n",
      "5       0.2         (eggs, apple)\n",
      "6       0.4         (milk, apple)\n",
      "7       0.2         (eggs, bread)\n",
      "8       0.6         (bread, milk)\n",
      "9       0.2          (eggs, milk)\n",
      "10      0.2  (bread, apple, milk)\n",
      "11      0.2   (eggs, bread, milk)\n",
      "\n",
      "Association Rules:\n",
      "       antecedents    consequents  antecedent support  consequent support  \\\n",
      "0           (eggs)        (apple)                 0.4                 0.6   \n",
      "1           (milk)        (apple)                 0.8                 0.6   \n",
      "2          (apple)         (milk)                 0.6                 0.8   \n",
      "3           (eggs)        (bread)                 0.4                 0.6   \n",
      "4          (bread)         (milk)                 0.6                 0.8   \n",
      "5           (milk)        (bread)                 0.8                 0.6   \n",
      "6           (eggs)         (milk)                 0.4                 0.8   \n",
      "7   (bread, apple)         (milk)                 0.2                 0.8   \n",
      "8    (milk, apple)        (bread)                 0.4                 0.6   \n",
      "9    (eggs, bread)         (milk)                 0.2                 0.8   \n",
      "10    (eggs, milk)        (bread)                 0.2                 0.6   \n",
      "11          (eggs)  (bread, milk)                 0.4                 0.6   \n",
      "\n",
      "    support  confidence      lift  leverage  conviction  zhangs_metric  \n",
      "0       0.2    0.500000  0.833333     -0.04         0.8      -0.250000  \n",
      "1       0.4    0.500000  0.833333     -0.08         0.8      -0.500000  \n",
      "2       0.4    0.666667  0.833333     -0.08         0.6      -0.333333  \n",
      "3       0.2    0.500000  0.833333     -0.04         0.8      -0.250000  \n",
      "4       0.6    1.000000  1.250000      0.12         inf       0.500000  \n",
      "5       0.6    0.750000  1.250000      0.12         1.6       1.000000  \n",
      "6       0.2    0.500000  0.625000     -0.12         0.4      -0.500000  \n",
      "7       0.2    1.000000  1.250000      0.04         inf       0.250000  \n",
      "8       0.2    0.500000  0.833333     -0.04         0.8      -0.250000  \n",
      "9       0.2    1.000000  1.250000      0.04         inf       0.250000  \n",
      "10      0.2    1.000000  1.666667      0.08         inf       0.500000  \n",
      "11      0.2    0.500000  0.833333     -0.04         0.8      -0.250000  \n"
     ]
    }
   ],
   "source": [
    "import pandas as pd\n",
    "from mlxtend.preprocessing import TransactionEncoder\n",
    "from mlxtend.frequent_patterns import apriori, association_rules\n",
    "\n",
    "transactions = [['eggs', 'milk', 'bread'],\n",
    "                 ['eggs', 'apple'],\n",
    "                 ['milk', 'bread'],\n",
    "                 ['apple', 'milk'],\n",
    "                 ['milk', 'apple', 'bread']]\n",
    "\n",
    "te = TransactionEncoder()\n",
    "te_ary = te.fit(transactions).transform(transactions)\n",
    "df = pd.DataFrame(te_ary, columns=te.columns_)\n",
    "\n",
    "frequent_itemsets = apriori(df, min_support=0.2, use_colnames=True)\n",
    "\n",
    "association_rules_df = association_rules(frequent_itemsets, metric=\"confidence\", min_threshold=0.5)\n",
    "\n",
    "print(\"Frequent Itemsets:\")\n",
    "print(frequent_itemsets)\n",
    "print(\"\\nAssociation Rules:\")\n",
    "print(association_rules_df)\n"
   ]
  },
  {
   "cell_type": "code",
   "execution_count": null,
   "id": "68f4944c",
   "metadata": {},
   "outputs": [],
   "source": []
  }
 ],
 "metadata": {
  "kernelspec": {
   "display_name": "Python 3 (ipykernel)",
   "language": "python",
   "name": "python3"
  },
  "language_info": {
   "codemirror_mode": {
    "name": "ipython",
    "version": 3
   },
   "file_extension": ".py",
   "mimetype": "text/x-python",
   "name": "python",
   "nbconvert_exporter": "python",
   "pygments_lexer": "ipython3",
   "version": "3.11.1"
  }
 },
 "nbformat": 4,
 "nbformat_minor": 5
}
